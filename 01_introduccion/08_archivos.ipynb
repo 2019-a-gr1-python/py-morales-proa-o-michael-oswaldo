{
 "cells": [
  {
   "cell_type": "code",
   "execution_count": 13,
   "metadata": {},
   "outputs": [
    {
     "name": "stdout",
     "output_type": "stream",
     "text": [
      "<_io.TextIOWrapper name='./08_archivos.txt' mode='r' encoding='UTF-8'>\n",
      "<class '_io.TextIOWrapper'>\n",
      "['hola mijo \\n', 'que haces']\n"
     ]
    }
   ],
   "source": [
    "try:\n",
    "    path = './08_archivos.txt'\n",
    "    archivo_abierto = open(path)\n",
    "    print(archivo_abierto)\n",
    "    print(type(archivo_abierto))\n",
    "    \n",
    "    #liena_leida = archivo_abierto.readline()\n",
    "    #print(liena_leida)\n",
    "    #print(type(liena_leida))\n",
    "    \n",
    "     #liena_leida_dos = archivo_abierto.readline()\n",
    "    ##print(liena_leida_dos)\n",
    "    #print(type(liena_leida_dos))\n",
    "    \n",
    "    lineas_archivo = archivo_abierto.readlines()\n",
    "    print(lineas_archivo)\n",
    "    \n",
    "except:\n",
    "    print('Error abriendo')\n",
    "    "
   ]
  },
  {
   "cell_type": "code",
   "execution_count": 28,
   "metadata": {},
   "outputs": [],
   "source": [
    "try:\n",
    "    path = './08_archivos.txt'\n",
    "    archivo_escritura_abierto = open(path,mode='a')\n",
    "    archivo_escritura_abierto.writelines(['\\nNuenas  mijo!!!',' asomaraffff']) \n",
    "    #w -->sobreescribir\n",
    "    #r ---> leer\n",
    "    #a ----> añadir o append al final (write lines y write line)\n",
    "    \n",
    "    archivo_escritura_abierto.close()\n",
    "except:\n",
    "    print('Error abriendo')"
   ]
  },
  {
   "cell_type": "code",
   "execution_count": 10,
   "metadata": {},
   "outputs": [
    {
     "name": "stdout",
     "output_type": "stream",
     "text": [
      "['Nuenas Carnes mijo!!!Nuenas  mijo!!!\\n', 'Nuenas  mijo!!!\\n', 'Nuenas  mijo!!!\\n', 'Nuenas  mijo!!!\\n', 'Nuenas  mijo!!! asomaraffff']\n"
     ]
    }
   ],
   "source": [
    "try:\n",
    "    path = './08_archivos.txt'\n",
    "    archivo_escritura_abierto = open(path,mode='r')\n",
    "    abierto = archivo_escritura_abierto.readlines();\n",
    "    print(abierto);\n",
    "except:\n",
    "    print('ya nada')"
   ]
  },
  {
   "cell_type": "code",
   "execution_count": null,
   "metadata": {},
   "outputs": [],
   "source": []
  }
 ],
 "metadata": {
  "kernelspec": {
   "display_name": "Python 3",
   "language": "python",
   "name": "python3"
  },
  "language_info": {
   "codemirror_mode": {
    "name": "ipython",
    "version": 3
   },
   "file_extension": ".py",
   "mimetype": "text/x-python",
   "name": "python",
   "nbconvert_exporter": "python",
   "pygments_lexer": "ipython3",
   "version": "3.7.3"
  }
 },
 "nbformat": 4,
 "nbformat_minor": 2
}
