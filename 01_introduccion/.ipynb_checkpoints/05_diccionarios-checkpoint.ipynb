{
 "cells": [
  {
   "cell_type": "code",
   "execution_count": 1,
   "metadata": {},
   "outputs": [],
   "source": [
    "# Diccionario es un Json\n",
    "adrian = {\n",
    "    'nombre':'Michael',\n",
    "    'apellido':'Morales',\n",
    "    'edad':29,\n",
    "    'hijos':None,\n",
    "    'casado':False,\n",
    "    'sueldo':12.2,\n",
    "    'mascotas':[\n",
    "        \n",
    "        {\n",
    "            'nombre': 'cachetes',\n",
    "            'edad': '3'\n",
    "            \n",
    "        }\n",
    "        \n",
    "    ],\n",
    "    'carro':(0,1,2)\n",
    "}"
   ]
  },
  {
   "cell_type": "code",
   "execution_count": 3,
   "metadata": {},
   "outputs": [
    {
     "data": {
      "text/plain": [
       "'Michael'"
      ]
     },
     "execution_count": 3,
     "metadata": {},
     "output_type": "execute_result"
    }
   ],
   "source": [
    "adrian['nombre']"
   ]
  },
  {
   "cell_type": "code",
   "execution_count": 4,
   "metadata": {},
   "outputs": [
    {
     "data": {
      "text/plain": [
       "{'nombre': 'cachetes', 'edad': '3'}"
      ]
     },
     "execution_count": 4,
     "metadata": {},
     "output_type": "execute_result"
    }
   ],
   "source": [
    "adrian['mascotas'][0]"
   ]
  },
  {
   "cell_type": "code",
   "execution_count": 5,
   "metadata": {},
   "outputs": [
    {
     "data": {
      "text/plain": [
       "'cachetes'"
      ]
     },
     "execution_count": 5,
     "metadata": {},
     "output_type": "execute_result"
    }
   ],
   "source": [
    "adrian['mascotas'][0]['nombre']"
   ]
  },
  {
   "cell_type": "code",
   "execution_count": 7,
   "metadata": {},
   "outputs": [
    {
     "data": {
      "text/plain": [
       "'Michael'"
      ]
     },
     "execution_count": 7,
     "metadata": {},
     "output_type": "execute_result"
    }
   ],
   "source": [
    "adrian.get('nombre')"
   ]
  },
  {
   "cell_type": "code",
   "execution_count": 8,
   "metadata": {},
   "outputs": [
    {
     "data": {
      "text/plain": [
       "dict_values(['Michael', 'Morales', 29, None, False, 12.2, [{'nombre': 'cachetes', 'edad': '3'}], (0, 1, 2)])"
      ]
     },
     "execution_count": 8,
     "metadata": {},
     "output_type": "execute_result"
    }
   ],
   "source": [
    "adrian.values()"
   ]
  },
  {
   "cell_type": "code",
   "execution_count": 9,
   "metadata": {},
   "outputs": [
    {
     "data": {
      "text/plain": [
       "dict_keys(['nombre', 'apellido', 'edad', 'hijos', 'casado', 'sueldo', 'mascotas', 'carro'])"
      ]
     },
     "execution_count": 9,
     "metadata": {},
     "output_type": "execute_result"
    }
   ],
   "source": [
    "adrian.keys()"
   ]
  },
  {
   "cell_type": "code",
   "execution_count": 12,
   "metadata": {},
   "outputs": [
    {
     "name": "stdout",
     "output_type": "stream",
     "text": [
      "llave:nombre valor: Michael\n",
      "llave:apellido valor: Morales\n",
      "llave:edad valor: 29\n",
      "llave:hijos valor: None\n",
      "llave:casado valor: False\n",
      "llave:sueldo valor: 12.2\n",
      "llave:mascotas valor: [{'nombre': 'cachetes', 'edad': '3'}]\n",
      "llave:carro valor: (0, 1, 2)\n"
     ]
    }
   ],
   "source": [
    "for key in adrian.keys():\n",
    "    print(f\"llave:{key} valor: {adrian[key]}\")"
   ]
  },
  {
   "cell_type": "code",
   "execution_count": 13,
   "metadata": {},
   "outputs": [],
   "source": [
    "adrian['apellido'] = 'Jimenez'"
   ]
  },
  {
   "cell_type": "code",
   "execution_count": 14,
   "metadata": {},
   "outputs": [
    {
     "data": {
      "text/plain": [
       "{'nombre': 'Michael',\n",
       " 'apellido': 'Jimenez',\n",
       " 'edad': 29,\n",
       " 'hijos': None,\n",
       " 'casado': False,\n",
       " 'sueldo': 12.2,\n",
       " 'mascotas': [{'nombre': 'cachetes', 'edad': '3'}],\n",
       " 'carro': (0, 1, 2)}"
      ]
     },
     "execution_count": 14,
     "metadata": {},
     "output_type": "execute_result"
    }
   ],
   "source": [
    "adrian\n"
   ]
  },
  {
   "cell_type": "code",
   "execution_count": 16,
   "metadata": {},
   "outputs": [],
   "source": [
    "valores_nuevos = {\n",
    "    'talia':'Talia',\n",
    "    'rafico':'Rafico',\n",
    "    'lula':'Lula',\n",
    "}"
   ]
  },
  {
   "cell_type": "code",
   "execution_count": 17,
   "metadata": {},
   "outputs": [],
   "source": [
    "adrian.update(valores_nuevos)"
   ]
  },
  {
   "cell_type": "code",
   "execution_count": 18,
   "metadata": {},
   "outputs": [
    {
     "data": {
      "text/plain": [
       "{'nombre': 'Michael',\n",
       " 'apellido': 'Jimenez',\n",
       " 'edad': 29,\n",
       " 'hijos': None,\n",
       " 'casado': False,\n",
       " 'sueldo': 12.2,\n",
       " 'mascotas': [{'nombre': 'cachetes', 'edad': '3'}],\n",
       " 'carro': (0, 1, 2),\n",
       " 'talia': 'Talia',\n",
       " 'rafico': 'Rafico',\n",
       " 'lula': 'Lula'}"
      ]
     },
     "execution_count": 18,
     "metadata": {},
     "output_type": "execute_result"
    }
   ],
   "source": [
    "adrian\n"
   ]
  },
  {
   "cell_type": "code",
   "execution_count": 21,
   "metadata": {},
   "outputs": [],
   "source": [
    "adrian['mascotas'][0].update(valores_nuevos)"
   ]
  },
  {
   "cell_type": "code",
   "execution_count": 22,
   "metadata": {},
   "outputs": [
    {
     "data": {
      "text/plain": [
       "{'nombre': 'Michael',\n",
       " 'apellido': 'Jimenez',\n",
       " 'edad': 29,\n",
       " 'hijos': None,\n",
       " 'casado': False,\n",
       " 'sueldo': 12.2,\n",
       " 'mascotas': [{'nombre': 'cachetes',\n",
       "   'edad': '3',\n",
       "   'talia': 'Talia',\n",
       "   'rafico': 'Rafico',\n",
       "   'lula': 'Lula'}],\n",
       " 'carro': (0, 1, 2),\n",
       " 'talia': 'Talia',\n",
       " 'rafico': 'Rafico',\n",
       " 'lula': 'Lula'}"
      ]
     },
     "execution_count": 22,
     "metadata": {},
     "output_type": "execute_result"
    }
   ],
   "source": [
    "adrian\n"
   ]
  },
  {
   "cell_type": "code",
   "execution_count": 24,
   "metadata": {},
   "outputs": [],
   "source": [
    "#este no manda errores\n",
    "adrian.get('sda')"
   ]
  },
  {
   "cell_type": "code",
   "execution_count": 31,
   "metadata": {},
   "outputs": [
    {
     "name": "stdout",
     "output_type": "stream",
     "text": [
      "Error:'NAME'\n"
     ]
    },
    {
     "ename": "AttributeError",
     "evalue": "'KeyError' object has no attribute '_traceback_'",
     "output_type": "error",
     "traceback": [
      "\u001b[0;31m---------------------------------------------------------------------------\u001b[0m",
      "\u001b[0;31mKeyError\u001b[0m                                  Traceback (most recent call last)",
      "\u001b[0;32m<ipython-input-31-7c01ca24f505>\u001b[0m in \u001b[0;36m<module>\u001b[0;34m\u001b[0m\n\u001b[1;32m      3\u001b[0m \u001b[0;32mtry\u001b[0m\u001b[0;34m:\u001b[0m\u001b[0;34m\u001b[0m\u001b[0;34m\u001b[0m\u001b[0m\n\u001b[0;32m----> 4\u001b[0;31m     \u001b[0mprint\u001b[0m\u001b[0;34m(\u001b[0m\u001b[0madrian\u001b[0m\u001b[0;34m[\u001b[0m\u001b[0;34m'NAME'\u001b[0m\u001b[0;34m]\u001b[0m\u001b[0;34m)\u001b[0m\u001b[0;34m\u001b[0m\u001b[0;34m\u001b[0m\u001b[0m\n\u001b[0m\u001b[1;32m      5\u001b[0m \u001b[0;32mexcept\u001b[0m \u001b[0;34m(\u001b[0m\u001b[0mNameError\u001b[0m\u001b[0;34m)\u001b[0m\u001b[0;32mas\u001b[0m \u001b[0mnameError\u001b[0m\u001b[0;34m:\u001b[0m\u001b[0;34m\u001b[0m\u001b[0;34m\u001b[0m\u001b[0m\n",
      "\u001b[0;31mKeyError\u001b[0m: 'NAME'",
      "\nDuring handling of the above exception, another exception occurred:\n",
      "\u001b[0;31mAttributeError\u001b[0m                            Traceback (most recent call last)",
      "\u001b[0;32m<ipython-input-31-7c01ca24f505>\u001b[0m in \u001b[0;36m<module>\u001b[0;34m\u001b[0m\n\u001b[1;32m      9\u001b[0m \u001b[0;32mexcept\u001b[0m \u001b[0mException\u001b[0m \u001b[0;32mas\u001b[0m \u001b[0merror\u001b[0m\u001b[0;34m:\u001b[0m\u001b[0;34m\u001b[0m\u001b[0;34m\u001b[0m\u001b[0m\n\u001b[1;32m     10\u001b[0m         \u001b[0mprint\u001b[0m\u001b[0;34m(\u001b[0m\u001b[0;34mf\"Error:{error}\"\u001b[0m\u001b[0;34m)\u001b[0m\u001b[0;34m\u001b[0m\u001b[0;34m\u001b[0m\u001b[0m\n\u001b[0;32m---> 11\u001b[0;31m         \u001b[0mprint\u001b[0m\u001b[0;34m(\u001b[0m\u001b[0;34mf\"Traceback{error._traceback_}\"\u001b[0m\u001b[0;34m)\u001b[0m\u001b[0;34m\u001b[0m\u001b[0;34m\u001b[0m\u001b[0m\n\u001b[0m",
      "\u001b[0;31mAttributeError\u001b[0m: 'KeyError' object has no attribute '_traceback_'"
     ]
    }
   ],
   "source": [
    "#errores\n",
    "\n",
    "try:\n",
    "    print(adrian['NAME'])\n",
    "except (NameError)as nameError:\n",
    "    print (f\"Error:{nameError} NAME ERROR\")\n",
    "    \n",
    "    \n",
    "except Exception as error:\n",
    "        print(f\"Error:{error}\")\n",
    "        print(f\"Traceback{error._traceback_}\")"
   ]
  },
  {
   "cell_type": "code",
   "execution_count": null,
   "metadata": {},
   "outputs": [],
   "source": [
    "\n",
    "\n"
   ]
  },
  {
   "cell_type": "code",
   "execution_count": null,
   "metadata": {},
   "outputs": [],
   "source": []
  }
 ],
 "metadata": {
  "kernelspec": {
   "display_name": "Python 3",
   "language": "python",
   "name": "python3"
  },
  "language_info": {
   "codemirror_mode": {
    "name": "ipython",
    "version": 3
   },
   "file_extension": ".py",
   "mimetype": "text/x-python",
   "name": "python",
   "nbconvert_exporter": "python",
   "pygments_lexer": "ipython3",
   "version": "3.7.3"
  }
 },
 "nbformat": 4,
 "nbformat_minor": 2
}
