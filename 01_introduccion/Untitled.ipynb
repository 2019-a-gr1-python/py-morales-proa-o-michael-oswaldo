{
 "cells": [
  {
   "cell_type": "markdown",
   "metadata": {},
   "source": [
    "# Funciones dentro de funciones"
   ]
  },
  {
   "cell_type": "code",
   "execution_count": 1,
   "metadata": {},
   "outputs": [],
   "source": [
    "def calculadora(num_uno, num_dos,operacion='Sumar'):\n",
    "    def sumar():\n",
    "        return num_dos + num_uno\n",
    "    def restar():\n",
    "        return num_uno - num_dos\n",
    "    def multiplicar():\n",
    "        return num_uno * num_dos\n",
    "    def dividir():\n",
    "        return num_uno / num_dos\n",
    "    def switch_operacion():\n",
    "        return{\n",
    "            'Sumar':sumar(),\n",
    "            'Restar':restar(),\n",
    "            'Multiplicar':multiplicar(),\n",
    "            'Dividir':dividir()\n",
    "            \n",
    "        }[operacion]\n",
    "    return switch_operacion()\n",
    "    "
   ]
  },
  {
   "cell_type": "code",
   "execution_count": 5,
   "metadata": {},
   "outputs": [
    {
     "data": {
      "text/plain": [
       "-1"
      ]
     },
     "execution_count": 5,
     "metadata": {},
     "output_type": "execute_result"
    }
   ],
   "source": [
    "calculadora(1,2,'Restar')"
   ]
  },
  {
   "cell_type": "code",
   "execution_count": null,
   "metadata": {},
   "outputs": [],
   "source": []
  },
  {
   "cell_type": "code",
   "execution_count": null,
   "metadata": {},
   "outputs": [],
   "source": []
  }
 ],
 "metadata": {
  "kernelspec": {
   "display_name": "Python 3",
   "language": "python",
   "name": "python3"
  },
  "language_info": {
   "codemirror_mode": {
    "name": "ipython",
    "version": 3
   },
   "file_extension": ".py",
   "mimetype": "text/x-python",
   "name": "python",
   "nbconvert_exporter": "python",
   "pygments_lexer": "ipython3",
   "version": "3.7.3"
  }
 },
 "nbformat": 4,
 "nbformat_minor": 2
}
