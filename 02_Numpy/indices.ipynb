{
 "cells": [
  {
   "cell_type": "markdown",
   "metadata": {},
   "source": [
    "# Indices"
   ]
  },
  {
   "cell_type": "code",
   "execution_count": 1,
   "metadata": {},
   "outputs": [],
   "source": [
    "import numpy as np"
   ]
  },
  {
   "cell_type": "code",
   "execution_count": 3,
   "metadata": {},
   "outputs": [],
   "source": [
    "numeros = np.arange(11)**2"
   ]
  },
  {
   "cell_type": "code",
   "execution_count": 4,
   "metadata": {},
   "outputs": [
    {
     "data": {
      "text/plain": [
       "array([  0,   1,   4,   9,  16,  25,  36,  49,  64,  81, 100])"
      ]
     },
     "execution_count": 4,
     "metadata": {},
     "output_type": "execute_result"
    }
   ],
   "source": [
    "numeros"
   ]
  },
  {
   "cell_type": "code",
   "execution_count": 5,
   "metadata": {},
   "outputs": [],
   "source": [
    "indices = [2,5,7]"
   ]
  },
  {
   "cell_type": "code",
   "execution_count": 6,
   "metadata": {},
   "outputs": [
    {
     "data": {
      "text/plain": [
       "array([ 4, 25, 49])"
      ]
     },
     "execution_count": 6,
     "metadata": {},
     "output_type": "execute_result"
    }
   ],
   "source": [
    "numeros[indices]"
   ]
  },
  {
   "cell_type": "code",
   "execution_count": 7,
   "metadata": {},
   "outputs": [],
   "source": [
    "arreglo_frutas = np.array([\n",
    "    ['Piña','Manzana','Pera','Melon'],\n",
    "    ['Pera','Uva','Naranja','Papaya'],\n",
    "    ['Frutilla','Platano','Granadilla','Sandia']\n",
    "    \n",
    "    \n",
    "])"
   ]
  },
  {
   "cell_type": "code",
   "execution_count": 8,
   "metadata": {},
   "outputs": [
    {
     "data": {
      "text/plain": [
       "array([['Piña', 'Manzana', 'Pera', 'Melon'],\n",
       "       ['Pera', 'Uva', 'Naranja', 'Papaya'],\n",
       "       ['Frutilla', 'Platano', 'Granadilla', 'Sandia']], dtype='<U10')"
      ]
     },
     "execution_count": 8,
     "metadata": {},
     "output_type": "execute_result"
    }
   ],
   "source": [
    "arreglo_frutas"
   ]
  },
  {
   "cell_type": "code",
   "execution_count": 16,
   "metadata": {},
   "outputs": [],
   "source": [
    "arreglo_filas = np.array([\n",
    "    [0,0],\n",
    "    [1,1],\n",
    "    [2,2],\n",
    "])"
   ]
  },
  {
   "cell_type": "code",
   "execution_count": 17,
   "metadata": {},
   "outputs": [],
   "source": [
    "arreglo_columnas = np.array([\n",
    "    \n",
    "    [1,3],\n",
    "    [1,2],\n",
    "    [0,2],\n",
    "    \n",
    "    \n",
    "])"
   ]
  },
  {
   "cell_type": "code",
   "execution_count": 13,
   "metadata": {},
   "outputs": [
    {
     "data": {
      "text/plain": [
       "array([['Manzana', 'Melon'],\n",
       "       ['Uva', 'Naranja'],\n",
       "       ['Frutilla', 'Granadilla']], dtype='<U10')"
      ]
     },
     "execution_count": 13,
     "metadata": {},
     "output_type": "execute_result"
    }
   ],
   "source": [
    "arreglo_frutas[arreglo_filas,arreglo_columnas]"
   ]
  },
  {
   "cell_type": "code",
   "execution_count": 14,
   "metadata": {},
   "outputs": [
    {
     "data": {
      "text/plain": [
       "array([['Piña', 'Manzana', 'Pera', 'Melon'],\n",
       "       ['Pera', 'Uva', 'Naranja', 'Papaya'],\n",
       "       ['Frutilla', 'Platano', 'Granadilla', 'Sandia']], dtype='<U10')"
      ]
     },
     "execution_count": 14,
     "metadata": {},
     "output_type": "execute_result"
    }
   ],
   "source": [
    "arreglo_frutas"
   ]
  },
  {
   "cell_type": "code",
   "execution_count": 21,
   "metadata": {},
   "outputs": [],
   "source": [
    "arreglo_filas_dos = np.array([\n",
    "    [0,0],\n",
    "    [1,1],\n",
    "    [2,2],\n",
    "])\n",
    "arreglo_columnas_dos = np.array([\n",
    "    \n",
    "    [2,3],\n",
    "    [2,3],\n",
    "    [2,3],\n",
    "    \n",
    "    \n",
    "])"
   ]
  },
  {
   "cell_type": "code",
   "execution_count": 22,
   "metadata": {},
   "outputs": [
    {
     "data": {
      "text/plain": [
       "array([['Pera', 'Melon'],\n",
       "       ['Naranja', 'Papaya'],\n",
       "       ['Granadilla', 'Sandia']], dtype='<U10')"
      ]
     },
     "execution_count": 22,
     "metadata": {},
     "output_type": "execute_result"
    }
   ],
   "source": [
    "arreglo_frutas[arreglo_filas_dos,arreglo_columnas_dos]"
   ]
  },
  {
   "cell_type": "code",
   "execution_count": 23,
   "metadata": {},
   "outputs": [
    {
     "data": {
      "text/plain": [
       "array([['Piña', 'Manzana', 'Pera', 'Melon'],\n",
       "       ['Pera', 'Uva', 'Naranja', 'Papaya'],\n",
       "       ['Frutilla', 'Platano', 'Granadilla', 'Sandia']], dtype='<U10')"
      ]
     },
     "execution_count": 23,
     "metadata": {},
     "output_type": "execute_result"
    }
   ],
   "source": [
    "arreglo_frutas\n"
   ]
  },
  {
   "cell_type": "code",
   "execution_count": 24,
   "metadata": {},
   "outputs": [
    {
     "data": {
      "text/plain": [
       "array([['Piña', 'Manzana', 'Pera', 'Melon'],\n",
       "       ['Pera', 'Uva', 'Naranja', 'Papaya'],\n",
       "       ['Frutilla', 'Platano', 'Granadilla', 'Sandia']], dtype='<U10')"
      ]
     },
     "execution_count": 24,
     "metadata": {},
     "output_type": "execute_result"
    }
   ],
   "source": [
    "arreglo_frutas"
   ]
  },
  {
   "cell_type": "code",
   "execution_count": 32,
   "metadata": {},
   "outputs": [],
   "source": [
    "arreglo_frutas = np.array([\n",
    "    ['Piña','Manzana','Pera','Melon'],\n",
    "    ['Pera','Uva','Naranja','Papaya'],\n",
    "    ['Frutilla','Platano','Granadilla','Sandia'],\n",
    "    ['AAA','BBB','CCC','DDD'],\n",
    "    ['EEE','FFF','GGG','HHH'],\n",
    "    ['III','JJJ','KKK','LLL'],\n",
    "    \n",
    "    \n",
    "    \n",
    "])"
   ]
  },
  {
   "cell_type": "code",
   "execution_count": 33,
   "metadata": {},
   "outputs": [
    {
     "data": {
      "text/plain": [
       "array([['Piña', 'Manzana', 'Pera', 'Melon'],\n",
       "       ['Pera', 'Uva', 'Naranja', 'Papaya'],\n",
       "       ['Frutilla', 'Platano', 'Granadilla', 'Sandia'],\n",
       "       ['AAA', 'BBB', 'CCC', 'DDD'],\n",
       "       ['EEE', 'FFF', 'GGG', 'HHH'],\n",
       "       ['III', 'JJJ', 'KKK', 'LLL']], dtype='<U10')"
      ]
     },
     "execution_count": 33,
     "metadata": {},
     "output_type": "execute_result"
    }
   ],
   "source": [
    "arreglo_frutas"
   ]
  },
  {
   "cell_type": "code",
   "execution_count": 34,
   "metadata": {},
   "outputs": [],
   "source": [
    "arreglo_frutas.shape = (4,3,2)"
   ]
  },
  {
   "cell_type": "code",
   "execution_count": 35,
   "metadata": {},
   "outputs": [
    {
     "data": {
      "text/plain": [
       "array([[['Piña', 'Manzana'],\n",
       "        ['Pera', 'Melon'],\n",
       "        ['Pera', 'Uva']],\n",
       "\n",
       "       [['Naranja', 'Papaya'],\n",
       "        ['Frutilla', 'Platano'],\n",
       "        ['Granadilla', 'Sandia']],\n",
       "\n",
       "       [['AAA', 'BBB'],\n",
       "        ['CCC', 'DDD'],\n",
       "        ['EEE', 'FFF']],\n",
       "\n",
       "       [['GGG', 'HHH'],\n",
       "        ['III', 'JJJ'],\n",
       "        ['KKK', 'LLL']]], dtype='<U10')"
      ]
     },
     "execution_count": 35,
     "metadata": {},
     "output_type": "execute_result"
    }
   ],
   "source": [
    "arreglo_frutas"
   ]
  },
  {
   "cell_type": "code",
   "execution_count": 166,
   "metadata": {},
   "outputs": [],
   "source": [
    "arre_f = ([\n",
    "[[0,0],],\n",
    " [[1,1],],   \n",
    "    [[2,2],],  \n",
    "    [[3,3],],  \n",
    "  \n",
    "])"
   ]
  },
  {
   "cell_type": "code",
   "execution_count": 167,
   "metadata": {},
   "outputs": [],
   "source": [
    "arre_c = ([\n",
    "  [ \n",
    "[0,0],\n",
    "[1,1],\n",
    "[2,2]\n",
    "  ],\n",
    "    \n",
    "])\n",
    "\n",
    "arre_o = ([\n",
    "[[0,1],],\n",
    "])"
   ]
  },
  {
   "cell_type": "code",
   "execution_count": 163,
   "metadata": {},
   "outputs": [
    {
     "data": {
      "text/plain": [
       "array([[['Piña', 'Manzana'],\n",
       "        ['Pera', 'Melon'],\n",
       "        ['Pera', 'Uva']],\n",
       "\n",
       "       [['Naranja', 'Papaya'],\n",
       "        ['Frutilla', 'Platano'],\n",
       "        ['Granadilla', 'Sandia']],\n",
       "\n",
       "       [['AAA', 'BBB'],\n",
       "        ['CCC', 'DDD'],\n",
       "        ['EEE', 'FFF']],\n",
       "\n",
       "       [['GGG', 'HHH'],\n",
       "        ['III', 'JJJ'],\n",
       "        ['KKK', 'LLL']]], dtype='<U10')"
      ]
     },
     "execution_count": 163,
     "metadata": {},
     "output_type": "execute_result"
    }
   ],
   "source": [
    "arreglo_frutas[arre_f,arre_c,arre_o]"
   ]
  },
  {
   "cell_type": "code",
   "execution_count": 164,
   "metadata": {},
   "outputs": [
    {
     "data": {
      "text/plain": [
       "array([[['Piña', 'Manzana'],\n",
       "        ['Pera', 'Melon'],\n",
       "        ['Pera', 'Uva']],\n",
       "\n",
       "       [['Naranja', 'Papaya'],\n",
       "        ['Frutilla', 'Platano'],\n",
       "        ['Granadilla', 'Sandia']],\n",
       "\n",
       "       [['AAA', 'BBB'],\n",
       "        ['CCC', 'DDD'],\n",
       "        ['EEE', 'FFF']],\n",
       "\n",
       "       [['GGG', 'HHH'],\n",
       "        ['III', 'JJJ'],\n",
       "        ['KKK', 'LLL']]], dtype='<U10')"
      ]
     },
     "execution_count": 164,
     "metadata": {},
     "output_type": "execute_result"
    }
   ],
   "source": [
    "arreglo_frutas"
   ]
  },
  {
   "cell_type": "code",
   "execution_count": 165,
   "metadata": {},
   "outputs": [
    {
     "ename": "SyntaxError",
     "evalue": "unexpected EOF while parsing (<ipython-input-165-ea81728d6a8b>, line 1)",
     "output_type": "error",
     "traceback": [
      "\u001b[0;36m  File \u001b[0;32m\"<ipython-input-165-ea81728d6a8b>\"\u001b[0;36m, line \u001b[0;32m1\u001b[0m\n\u001b[0;31m    def get_p ():\u001b[0m\n\u001b[0m                 ^\u001b[0m\n\u001b[0;31mSyntaxError\u001b[0m\u001b[0;31m:\u001b[0m unexpected EOF while parsing\n"
     ]
    }
   ],
   "source": [
    "arreglo_frutras_p = arreglo_frutas \n",
    "    "
   ]
  },
  {
   "cell_type": "code",
   "execution_count": null,
   "metadata": {},
   "outputs": [],
   "source": []
  }
 ],
 "metadata": {
  "kernelspec": {
   "display_name": "Python 3",
   "language": "python",
   "name": "python3"
  },
  "language_info": {
   "codemirror_mode": {
    "name": "ipython",
    "version": 3
   },
   "file_extension": ".py",
   "mimetype": "text/x-python",
   "name": "python",
   "nbconvert_exporter": "python",
   "pygments_lexer": "ipython3",
   "version": "3.7.3"
  }
 },
 "nbformat": 4,
 "nbformat_minor": 2
}
