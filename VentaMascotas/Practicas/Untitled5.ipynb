{
 "cells": [
  {
   "cell_type": "code",
   "execution_count": 6,
   "metadata": {},
   "outputs": [],
   "source": [
    "def crud(numer):\n",
    "    def listar():\n",
    "            return print('Esta Listando')\n",
    "    def crear():\n",
    "            return print('Esta crear')\n",
    "    def borrar():\n",
    "            return print('Esta borrar')\n",
    "    def editar():\n",
    "            return print('Esta editar')\n",
    "    def switch_accion():\n",
    "        return{\n",
    "            '1' :listar(),\n",
    "            '2' :crear(),\n",
    "            '3' :borrar(),\n",
    "            '4' :editar() \n",
    "        }[accion]\n",
    "    return switch_accion()"
   ]
  },
  {
   "cell_type": "code",
   "execution_count": 7,
   "metadata": {},
   "outputs": [
    {
     "name": "stdout",
     "output_type": "stream",
     "text": [
      "Esta Listando\n",
      "Esta crear\n",
      "Esta borrar\n",
      "Esta editar\n"
     ]
    },
    {
     "ename": "NameError",
     "evalue": "name 'accion' is not defined",
     "output_type": "error",
     "traceback": [
      "\u001b[1;31m---------------------------------------------------------------------------\u001b[0m",
      "\u001b[1;31mNameError\u001b[0m                                 Traceback (most recent call last)",
      "\u001b[1;32m<ipython-input-7-a1a44a4b27d9>\u001b[0m in \u001b[0;36m<module>\u001b[1;34m\u001b[0m\n\u001b[1;32m----> 1\u001b[1;33m \u001b[0mcrud\u001b[0m\u001b[1;33m(\u001b[0m\u001b[1;36m1\u001b[0m\u001b[1;33m)\u001b[0m\u001b[1;33m\u001b[0m\u001b[1;33m\u001b[0m\u001b[0m\n\u001b[0m",
      "\u001b[1;32m<ipython-input-6-7048614afddd>\u001b[0m in \u001b[0;36mcrud\u001b[1;34m(numer)\u001b[0m\n\u001b[0;32m     15\u001b[0m             \u001b[1;34m'4'\u001b[0m \u001b[1;33m:\u001b[0m\u001b[0meditar\u001b[0m\u001b[1;33m(\u001b[0m\u001b[1;33m)\u001b[0m\u001b[1;33m\u001b[0m\u001b[1;33m\u001b[0m\u001b[0m\n\u001b[0;32m     16\u001b[0m         }[accion]\n\u001b[1;32m---> 17\u001b[1;33m     \u001b[1;32mreturn\u001b[0m \u001b[0mswitch_accion\u001b[0m\u001b[1;33m(\u001b[0m\u001b[1;33m)\u001b[0m\u001b[1;33m\u001b[0m\u001b[1;33m\u001b[0m\u001b[0m\n\u001b[0m",
      "\u001b[1;32m<ipython-input-6-7048614afddd>\u001b[0m in \u001b[0;36mswitch_accion\u001b[1;34m()\u001b[0m\n\u001b[0;32m     14\u001b[0m             \u001b[1;34m'3'\u001b[0m \u001b[1;33m:\u001b[0m\u001b[0mborrar\u001b[0m\u001b[1;33m(\u001b[0m\u001b[1;33m)\u001b[0m\u001b[1;33m,\u001b[0m\u001b[1;33m\u001b[0m\u001b[1;33m\u001b[0m\u001b[0m\n\u001b[0;32m     15\u001b[0m             \u001b[1;34m'4'\u001b[0m \u001b[1;33m:\u001b[0m\u001b[0meditar\u001b[0m\u001b[1;33m(\u001b[0m\u001b[1;33m)\u001b[0m\u001b[1;33m\u001b[0m\u001b[1;33m\u001b[0m\u001b[0m\n\u001b[1;32m---> 16\u001b[1;33m         }[accion]\n\u001b[0m\u001b[0;32m     17\u001b[0m     \u001b[1;32mreturn\u001b[0m \u001b[0mswitch_accion\u001b[0m\u001b[1;33m(\u001b[0m\u001b[1;33m)\u001b[0m\u001b[1;33m\u001b[0m\u001b[1;33m\u001b[0m\u001b[0m\n",
      "\u001b[1;31mNameError\u001b[0m: name 'accion' is not defined"
     ]
    }
   ],
   "source": [
    "crud(1)"
   ]
  },
  {
   "cell_type": "code",
   "execution_count": 4,
   "metadata": {},
   "outputs": [
    {
     "name": "stdout",
     "output_type": "stream",
     "text": [
      "\n",
      "Bienvenido Administrador!\n",
      "1. Listar\n",
      "2. Crear\n",
      "3. Borrar\n",
      "4. Editar\n",
      "5. Salir\n",
      "Que desea Hacer1\n",
      "Esta Listando\n",
      "Esta crear\n",
      "Esta borrar\n",
      "Esta editar\n"
     ]
    }
   ],
   "source": [
    "crud()"
   ]
  },
  {
   "cell_type": "code",
   "execution_count": null,
   "metadata": {},
   "outputs": [],
   "source": []
  }
 ],
 "metadata": {
  "kernelspec": {
   "display_name": "Python 3",
   "language": "python",
   "name": "python3"
  },
  "language_info": {
   "codemirror_mode": {
    "name": "ipython",
    "version": 3
   },
   "file_extension": ".py",
   "mimetype": "text/x-python",
   "name": "python",
   "nbconvert_exporter": "python",
   "pygments_lexer": "ipython3",
   "version": "3.7.3"
  }
 },
 "nbformat": 4,
 "nbformat_minor": 2
}
