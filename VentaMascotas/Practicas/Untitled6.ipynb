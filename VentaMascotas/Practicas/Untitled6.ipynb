{
 "cells": [
  {
   "cell_type": "code",
   "execution_count": 1,
   "metadata": {},
   "outputs": [],
   "source": [
    "import numpy as np\n",
    "import sys\n",
    "def listar():\n",
    "    path = './mascotas.csv'\n",
    "    arreglo_mascotas = np.genfromtxt(path,delimiter=',',dtype='str')\n",
    "    print(arreglo_mascotas)\n",
    "def  crear():\n",
    "\tprint('crear')\n",
    "def borrar():\n",
    "\tprint('borrar')\n",
    "def editar():\n",
    "\tprint('editar')\n",
    "def salir():\n",
    "\tsys.exit()\n",
    "def crud():\n",
    "    print('\\nBienvenido Administrador!')\n",
    "    print('1. Listar')\n",
    "    print('2. Crear')\n",
    "    print('3. Borrar')\n",
    "    print('4. Editar')\n",
    "    print('5. Salir')\n",
    "    accion = input('Que desea Hacer')\n",
    "    print(accion)\n",
    "    if accion == '1':\n",
    "        listar()\n",
    "    if accion == '2':\n",
    "        crear()\n",
    "    if accion == '3':\n",
    "        borrar()\n",
    "    if accion == '4':\n",
    "        editar()\n",
    "    if accion == '5':\n",
    "        salir()\n",
    "def adoptar():\n",
    "    print('aqui se adopta')\n",
    "    \n",
    "def tienda():    \n",
    "    print('Bienvenido a  \"MyPet Store\"')\n",
    "\n",
    "    usuario = input('ingresa tu Password :');\n",
    "\n",
    "\n",
    "    if usuario == 'admin':\n",
    "        crud()\n",
    "    else:\n",
    "        print('no admin')\t\n",
    "\n",
    "    input('salir??')"
   ]
  },
  {
   "cell_type": "code",
   "execution_count": 2,
   "metadata": {},
   "outputs": [
    {
     "name": "stdout",
     "output_type": "stream",
     "text": [
      "Bienvenido a  \"MyPet Store\"\n",
      "ingresa tu Password :admin\n",
      "\n",
      "Bienvenido Administrador!\n",
      "1. Listar\n",
      "2. Crear\n",
      "3. Borrar\n",
      "4. Editar\n",
      "5. Salir\n",
      "Que desea Hacer2\n",
      "2\n",
      "crear\n",
      "salir??\n"
     ]
    }
   ],
   "source": [
    "tienda()"
   ]
  },
  {
   "cell_type": "code",
   "execution_count": null,
   "metadata": {},
   "outputs": [
    {
     "name": "stdout",
     "output_type": "stream",
     "text": [
      "Bienvenido a  \"MyPet Store\"\n",
      "ingresa tu Password :admin\n",
      "\n",
      "Bienvenido Administrador!\n",
      "1. Listar\n",
      "2. Crear\n",
      "3. Borrar\n",
      "4. Editar\n",
      "5. Salir\n",
      "Que desea Hacer1\n",
      "1\n",
      "[['perro' 'sd' 'macho']\n",
      " ['gato' 'sd' 'hembra']\n",
      " ['perro' 'joselo' 'macho']]\n"
     ]
    }
   ],
   "source": [
    "tienda()"
   ]
  },
  {
   "cell_type": "code",
   "execution_count": null,
   "metadata": {},
   "outputs": [],
   "source": []
  },
  {
   "cell_type": "code",
   "execution_count": null,
   "metadata": {},
   "outputs": [],
   "source": []
  },
  {
   "cell_type": "code",
   "execution_count": null,
   "metadata": {},
   "outputs": [],
   "source": [
    "tienda()"
   ]
  },
  {
   "cell_type": "code",
   "execution_count": null,
   "metadata": {},
   "outputs": [],
   "source": []
  }
 ],
 "metadata": {
  "kernelspec": {
   "display_name": "Python 3",
   "language": "python",
   "name": "python3"
  },
  "language_info": {
   "codemirror_mode": {
    "name": "ipython",
    "version": 3
   },
   "file_extension": ".py",
   "mimetype": "text/x-python",
   "name": "python",
   "nbconvert_exporter": "python",
   "pygments_lexer": "ipython3",
   "version": "3.7.3"
  }
 },
 "nbformat": 4,
 "nbformat_minor": 2
}
