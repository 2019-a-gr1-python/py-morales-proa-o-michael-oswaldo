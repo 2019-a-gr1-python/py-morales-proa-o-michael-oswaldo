{
 "cells": [
  {
   "cell_type": "code",
   "execution_count": 1,
   "metadata": {},
   "outputs": [],
   "source": [
    "def calculadora(num_uno, num_dos,operacion='Sumar'):\n",
    "    def sumar():\n",
    "        return num_dos + num_uno\n",
    "    def restar():\n",
    "        return num_uno - num_dos\n",
    "    def multiplicar():\n",
    "        return num_uno * num_dos\n",
    "    def dividir():\n",
    "        return num_uno / num_dos\n",
    "    def switch_operacion():\n",
    "        return{\n",
    "            'Sumar':sumar(),\n",
    "            'Restar':restar(),\n",
    "            'Multiplicar':multiplicar(),\n",
    "            'Dividir':dividir()\n",
    "            \n",
    "        }[operacion]\n",
    "    return switch_operacion()\n",
    "    "
   ]
  },
  {
   "cell_type": "code",
   "execution_count": 2,
   "metadata": {},
   "outputs": [
    {
     "data": {
      "text/plain": [
       "-1"
      ]
     },
     "execution_count": 2,
     "metadata": {},
     "output_type": "execute_result"
    }
   ],
   "source": [
    "calculadora(1,2,'Restar')"
   ]
  },
  {
   "cell_type": "code",
   "execution_count": 3,
   "metadata": {},
   "outputs": [],
   "source": [
    "def crud():\n",
    "    print('a')\n",
    "    print('b')\n",
    "    accion = input('ingrese a')"
   ]
  },
  {
   "cell_type": "code",
   "execution_count": null,
   "metadata": {},
   "outputs": [
    {
     "name": "stdout",
     "output_type": "stream",
     "text": [
      "a\n",
      "b\n"
     ]
    }
   ],
   "source": [
    "crud()"
   ]
  },
  {
   "cell_type": "code",
   "execution_count": null,
   "metadata": {},
   "outputs": [],
   "source": [
    "def crud():\n",
    "    print('\\nBienvenido Administrador!')\n",
    "    print('1. Listar')\n",
    "    print('2. Crear')\n",
    "    print('3. Borrar')\n",
    "    print('4. Editar')\n",
    "    print('5. Salir')\n",
    "    accion = input('Que desea Hacer')\n",
    "    def listar():\n",
    "            print('Esta Listando')\n",
    "    def crear():\n",
    "            print('Esta crear')\n",
    "    def borrar():\n",
    "            print('Esta borrar')\n",
    "    def editar():\n",
    "            print('Esta editar')\n",
    "    def switch_accion():\n",
    "        return{\n",
    "            '1' :listar(),\n",
    "            '2' :crear(),\n",
    "            '3' :borrar(),\n",
    "            '4' :editar() \n",
    "        }[accion]\n",
    "    return switch_accion()"
   ]
  },
  {
   "cell_type": "code",
   "execution_count": null,
   "metadata": {},
   "outputs": [],
   "source": [
    "crud()"
   ]
  },
  {
   "cell_type": "code",
   "execution_count": null,
   "metadata": {},
   "outputs": [],
   "source": []
  }
 ],
 "metadata": {
  "kernelspec": {
   "display_name": "Python 3",
   "language": "python",
   "name": "python3"
  },
  "language_info": {
   "codemirror_mode": {
    "name": "ipython",
    "version": 3
   },
   "file_extension": ".py",
   "mimetype": "text/x-python",
   "name": "python",
   "nbconvert_exporter": "python",
   "pygments_lexer": "ipython3",
   "version": "3.7.3"
  }
 },
 "nbformat": 4,
 "nbformat_minor": 2
}
