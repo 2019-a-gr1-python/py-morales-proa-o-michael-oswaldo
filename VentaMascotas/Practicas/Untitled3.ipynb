{
 "cells": [
  {
   "cell_type": "code",
   "execution_count": 1,
   "metadata": {},
   "outputs": [],
   "source": [
    "def crud():\n",
    "    print('\\nBienvenido Administrador!')\n",
    "    print('1. Listar')\n",
    "    print('2. Crear')\n",
    "    print('3. Borrar')\n",
    "    print('4. Editar')\n",
    "    print('5. Salir')\n",
    "    accion = input('Que desea Hacer')\n",
    "    def listar():\n",
    "            print('Esta Listando')\n",
    "    def crear():\n",
    "            print('Esta crear')\n",
    "    def borrar():\n",
    "            print('Esta borrar')\n",
    "    def editar():\n",
    "            print('Esta editar')\n",
    "    def switch_accion():\n",
    "        return{\n",
    "            '1' :listar(),\n",
    "            '2' :crear(),\n",
    "            '3' :borrar(),\n",
    "            '4' :editar() \n",
    "        }[accion]\n",
    "    return switch_accion()\n",
    "\n",
    "\n",
    "def adoptar():\n",
    "    print('aqui se adopta')\n",
    "    \n",
    "def tienda():    \n",
    "    print('Bienvenido a  \"MyPet Store\"')\n",
    "\n",
    "    usuario = input('ingresa tu Password :');\n",
    "\n",
    "\n",
    "    if usuario == 'admin':\n",
    "        crud()\n",
    "    else:\n",
    "        print('no admin')\t\n",
    "\n",
    "    input('salir??')"
   ]
  },
  {
   "cell_type": "code",
   "execution_count": null,
   "metadata": {},
   "outputs": [],
   "source": [
    "tienda()"
   ]
  },
  {
   "cell_type": "code",
   "execution_count": null,
   "metadata": {},
   "outputs": [],
   "source": [
    "type(accion)"
   ]
  },
  {
   "cell_type": "code",
   "execution_count": null,
   "metadata": {},
   "outputs": [],
   "source": [
    "print(type(accion))"
   ]
  },
  {
   "cell_type": "code",
   "execution_count": null,
   "metadata": {},
   "outputs": [],
   "source": []
  }
 ],
 "metadata": {
  "kernelspec": {
   "display_name": "Python 3",
   "language": "python",
   "name": "python3"
  },
  "language_info": {
   "codemirror_mode": {
    "name": "ipython",
    "version": 3
   },
   "file_extension": ".py",
   "mimetype": "text/x-python",
   "name": "python",
   "nbconvert_exporter": "python",
   "pygments_lexer": "ipython3",
   "version": "3.7.3"
  }
 },
 "nbformat": 4,
 "nbformat_minor": 2
}
