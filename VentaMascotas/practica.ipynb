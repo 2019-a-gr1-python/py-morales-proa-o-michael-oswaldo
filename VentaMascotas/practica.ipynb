{
 "cells": [
  {
   "cell_type": "code",
   "execution_count": 18,
   "metadata": {},
   "outputs": [
    {
     "name": "stdout",
     "output_type": "stream",
     "text": [
      "<class 'str'>\n",
      "<class 'str'>\n",
      "<class 'str'>\n"
     ]
    }
   ],
   "source": [
    "try:\n",
    "    path = './Mascotas.txt'\n",
    "    archivo_escritura_abierto = open(path,mode='r')\n",
    "    abierto = archivo_escritura_abierto.readlines();\n",
    "    for a in abierto:\n",
    "        print(type(a))   \n",
    "except:\n",
    "    print('ya nada')"
   ]
  },
  {
   "cell_type": "code",
   "execution_count": 30,
   "metadata": {},
   "outputs": [
    {
     "name": "stdout",
     "output_type": "stream",
     "text": [
      "['perro', 'luis', '2\\n']\n",
      "luis\n",
      "['perro', 'jose', '1\\n']\n",
      "jose\n",
      "['gato', 'pancho', '3']\n",
      "pancho\n"
     ]
    }
   ],
   "source": [
    "try:\n",
    "    path = './Mascotas.txt'\n",
    "    archivo_escritura_abierto = open(path,mode='r')\n",
    "\n",
    "    for a in archivo_escritura_abierto:\n",
    "        print(a.split(','))\n",
    "        print(a.split(',')[1]);\n",
    "        \n",
    "except:\n",
    "    print('ya nada')"
   ]
  },
  {
   "cell_type": "code",
   "execution_count": null,
   "metadata": {},
   "outputs": [],
   "source": [
    "def listar():\n",
    "    print('Esta Listando')\n",
    "def crear():\n",
    "    print('Esta crear')\n",
    "def borrar():\n",
    "    print('Esta borrar')\n",
    "def editar():\n",
    "    print('Esta editar')\n",
    "\n",
    "\n",
    "\n",
    "def crud():\n",
    "    print('\\nBienvenido Administrador!')\n",
    "    print('1. Listar')\n",
    "    print('2. Crear')\n",
    "    print('3. Borrar')\n",
    "    print('4. Editar')\n",
    "    print('5. Salir')\n",
    "    accion = input('Que desea Hacer')\n",
    "    def switch_accion():\n",
    "        return{\n",
    "            '1' :listar(),\n",
    "            '2' :crear(),\n",
    "            '3' :borrar(),\n",
    "            '4' :editar() \n",
    "            }[accion]\n",
    "    return switch_accion()\n",
    "\n",
    "\n",
    "\n",
    "def adoptar():\n",
    "    print('aqui se adopta')\n",
    "\n",
    "print('Bienvenido a  \"MyPet Store\"')\n",
    "\n",
    "usuario = input('ingresa tu Password :');\n",
    "\n",
    "\n",
    "if usuario == 'admin':\n",
    "\tcrud()\n",
    "else:\n",
    "\tprint('no admin')\t\n",
    "\n",
    "input('salir??')"
   ]
  },
  {
   "cell_type": "code",
   "execution_count": null,
   "metadata": {},
   "outputs": [],
   "source": [
    "def listar():\n",
    "    print('Esta Listando')\n",
    "def crear():\n",
    "    print('Esta crear')\n",
    "def borrar():\n",
    "    print('Esta borrar')\n",
    "def editar():\n",
    "    print('Esta editar')\n",
    "\n",
    "\n",
    "\n",
    "def crud():\n",
    "    print('\\nBienvenido Administrador!')\n",
    "    print('1. Listar')\n",
    "    print('2. Crear')\n",
    "    print('3. Borrar')\n",
    "    print('4. Editar')\n",
    "    print('5. Salir')\n",
    "    accion = input('Que desea Hacer')\n",
    "    def switch_accion():\n",
    "        return{\n",
    "            '1' :listar(),\n",
    "            '2' :crear(),\n",
    "            '3' :borrar(),\n",
    "            '4' :editar() \n",
    "            }[accion]\n",
    "    return switch_accion()\n",
    "\n",
    "\n",
    "\n",
    "def adoptar():\n",
    "    print('aqui se adopta')\n",
    "\n",
    "print('Bienvenido a  \"MyPet Store\"')\n",
    "\n",
    "usuario = input('ingresa tu Password :');\n",
    "\n",
    "\n",
    "if usuario == 'admin':\n",
    "\tcrud()\n",
    "else:\n",
    "\tprint('no admin')\t\n",
    "\n",
    "input('salir??')\n"
   ]
  },
  {
   "cell_type": "code",
   "execution_count": null,
   "metadata": {},
   "outputs": [],
   "source": [
    "print('hola')"
   ]
  },
  {
   "cell_type": "code",
   "execution_count": null,
   "metadata": {},
   "outputs": [],
   "source": []
  },
  {
   "cell_type": "code",
   "execution_count": null,
   "metadata": {},
   "outputs": [],
   "source": []
  },
  {
   "cell_type": "code",
   "execution_count": null,
   "metadata": {},
   "outputs": [],
   "source": []
  }
 ],
 "metadata": {
  "kernelspec": {
   "display_name": "Python 3",
   "language": "python",
   "name": "python3"
  },
  "language_info": {
   "codemirror_mode": {
    "name": "ipython",
    "version": 3
   },
   "file_extension": ".py",
   "mimetype": "text/x-python",
   "name": "python",
   "nbconvert_exporter": "python",
   "pygments_lexer": "ipython3",
   "version": "3.7.3"
  }
 },
 "nbformat": 4,
 "nbformat_minor": 2
}
